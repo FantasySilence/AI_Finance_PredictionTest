{
 "cells": [
  {
   "cell_type": "markdown",
   "metadata": {},
   "source": [
    "@Author: Fantasy_Silence                           \n",
    "@Time: 2024-05-28                                  \n",
    "@IDE: Visual Studio Code & PyCharm                 \n",
    "@Python: 3.9.7\n",
    "@Description: 这里是主程序入口。                                     "
   ]
  },
  {
   "cell_type": "code",
   "execution_count": 17,
   "metadata": {},
   "outputs": [],
   "source": [
    "# 导入相关库\n",
    "import warnings\n",
    "import matplotlib\n",
    "import pandas as pd\n",
    "import seaborn as sns\n",
    "from datetime import timedelta\n",
    "import matplotlib.pyplot as plt\n",
    "from sklearn.pipeline import Pipeline\n",
    "from sklearn.metrics import mean_squared_error\n",
    "from sklearn.tree import DecisionTreeRegressor\n",
    "from sklearn.linear_model import LinearRegression\n",
    "from sklearn.neighbors import KNeighborsRegressor\n",
    "from sklearn.ensemble import RandomForestRegressor\n",
    "from sklearn.model_selection import train_test_split, KFold\n",
    "from sklearn.model_selection import GridSearchCV, cross_val_score\n",
    "\n",
    "from src.common.filesio import FilesIO\n",
    "from src.modules.process.vtsplit import TargetVaribleSplit\n",
    "from src.modules.datapreperation.get_text import GetTextFromPng\n",
    "from src.modules.datapreperation.screenshot import GetScreenshot\n",
    "from src.modules.process.dataprocess import PipeLineForDataProcess\n",
    "\n",
    "warnings.filterwarnings(\"ignore\")\n",
    "matplotlib.rcParams['font.family'] = 'SimHei'\n",
    "matplotlib.rcParams['axes.unicode_minus'] = False"
   ]
  },
  {
   "cell_type": "code",
   "execution_count": 2,
   "metadata": {},
   "outputs": [
    {
     "name": "stdout",
     "output_type": "stream",
     "text": [
      "数据获取成功\n"
     ]
    }
   ],
   "source": [
    "# 从公众号上获取数据\n",
    "# 获取时请使用电脑打开\"上海期货交易原油期货sc2406月度结算参考价所在区间\"的历史走势\n",
    "GetScreenshot.save(is_save=True)\n",
    "GetTextFromPng.saveTextIncsv(filename=\"data.csv\")"
   ]
  },
  {
   "cell_type": "code",
   "execution_count": 2,
   "metadata": {},
   "outputs": [
    {
     "data": {
      "text/html": [
       "<div>\n",
       "<style scoped>\n",
       "    .dataframe tbody tr th:only-of-type {\n",
       "        vertical-align: middle;\n",
       "    }\n",
       "\n",
       "    .dataframe tbody tr th {\n",
       "        vertical-align: top;\n",
       "    }\n",
       "\n",
       "    .dataframe thead th {\n",
       "        text-align: right;\n",
       "    }\n",
       "</style>\n",
       "<table border=\"1\" class=\"dataframe\">\n",
       "  <thead>\n",
       "    <tr style=\"text-align: right;\">\n",
       "      <th></th>\n",
       "      <th>time</th>\n",
       "      <th>(720, +oo]</th>\n",
       "      <th>(700, 720]</th>\n",
       "      <th>(680, 700]</th>\n",
       "      <th>(660, 680]</th>\n",
       "      <th>(640, 660]</th>\n",
       "      <th>(620, 640]</th>\n",
       "      <th>(600, 620]</th>\n",
       "      <th>(580, 600]</th>\n",
       "      <th>(0 580]</th>\n",
       "    </tr>\n",
       "  </thead>\n",
       "  <tbody>\n",
       "    <tr>\n",
       "      <th>0</th>\n",
       "      <td>2024-05-06 12:58:44</td>\n",
       "      <td>0.111</td>\n",
       "      <td>0.111</td>\n",
       "      <td>0.111</td>\n",
       "      <td>0.111</td>\n",
       "      <td>0.111</td>\n",
       "      <td>0.111</td>\n",
       "      <td>0.111</td>\n",
       "      <td>0.111</td>\n",
       "      <td>0.111</td>\n",
       "    </tr>\n",
       "    <tr>\n",
       "      <th>1</th>\n",
       "      <td>2024-05-06 12:58:44</td>\n",
       "      <td>0.104</td>\n",
       "      <td>0.104</td>\n",
       "      <td>0.104</td>\n",
       "      <td>0.104</td>\n",
       "      <td>0.104</td>\n",
       "      <td>0.171</td>\n",
       "      <td>0.104</td>\n",
       "      <td>0.104</td>\n",
       "      <td>0.104</td>\n",
       "    </tr>\n",
       "    <tr>\n",
       "      <th>2</th>\n",
       "      <td>2024-05-06 12:59:41</td>\n",
       "      <td>0.080</td>\n",
       "      <td>0.080</td>\n",
       "      <td>0.080</td>\n",
       "      <td>0.080</td>\n",
       "      <td>0.080</td>\n",
       "      <td>0.359</td>\n",
       "      <td>0.080</td>\n",
       "      <td>0.080</td>\n",
       "      <td>0.080</td>\n",
       "    </tr>\n",
       "    <tr>\n",
       "      <th>3</th>\n",
       "      <td>2024-05-06 13:00:02</td>\n",
       "      <td>0.065</td>\n",
       "      <td>0.065</td>\n",
       "      <td>0.065</td>\n",
       "      <td>0.065</td>\n",
       "      <td>0.065</td>\n",
       "      <td>0.480</td>\n",
       "      <td>0.065</td>\n",
       "      <td>0.065</td>\n",
       "      <td>0.065</td>\n",
       "    </tr>\n",
       "    <tr>\n",
       "      <th>4</th>\n",
       "      <td>2024-05-06 18:59:41</td>\n",
       "      <td>0.058</td>\n",
       "      <td>0.058</td>\n",
       "      <td>0.058</td>\n",
       "      <td>0.058</td>\n",
       "      <td>0.058</td>\n",
       "      <td>0.438</td>\n",
       "      <td>0.058</td>\n",
       "      <td>0.058</td>\n",
       "      <td>0.157</td>\n",
       "    </tr>\n",
       "  </tbody>\n",
       "</table>\n",
       "</div>"
      ],
      "text/plain": [
       "                  time  (720, +oo]  (700, 720]  (680, 700]  (660, 680]  \\\n",
       "0  2024-05-06 12:58:44       0.111       0.111       0.111       0.111   \n",
       "1  2024-05-06 12:58:44       0.104       0.104       0.104       0.104   \n",
       "2  2024-05-06 12:59:41       0.080       0.080       0.080       0.080   \n",
       "3  2024-05-06 13:00:02       0.065       0.065       0.065       0.065   \n",
       "4  2024-05-06 18:59:41       0.058       0.058       0.058       0.058   \n",
       "\n",
       "   (640, 660]  (620, 640]  (600, 620]  (580, 600]  (0 580]  \n",
       "0       0.111       0.111       0.111       0.111    0.111  \n",
       "1       0.104       0.171       0.104       0.104    0.104  \n",
       "2       0.080       0.359       0.080       0.080    0.080  \n",
       "3       0.065       0.480       0.065       0.065    0.065  \n",
       "4       0.058       0.438       0.058       0.058    0.157  "
      ]
     },
     "execution_count": 2,
     "metadata": {},
     "output_type": "execute_result"
    }
   ],
   "source": [
    "# 加载数据\n",
    "row_data = pd.read_csv(FilesIO.getDataset(\"data.csv\"))\n",
    "row_data.head()"
   ]
  },
  {
   "cell_type": "code",
   "execution_count": 6,
   "metadata": {},
   "outputs": [],
   "source": [
    "# 处理数据\n",
    "pipe = Pipeline([\n",
    "    # 特征工程\n",
    "    (\"preprocess\", PipeLineForDataProcess()),\n",
    "    # 分离自变量与目标值\n",
    "    (\"split\", TargetVaribleSplit(\n",
    "        ['year', 'month', 'day', 'hour', 'minute', 'day_of_week', 'is_weekend']\n",
    "    )),\n",
    "])\n",
    "# 划分训练集\n",
    "X_train, X_test, y_train, y_test = train_test_split(\n",
    "    *pipe.transform(row_data), test_size=0.2, random_state=42\n",
    ")"
   ]
  },
  {
   "cell_type": "code",
   "execution_count": 12,
   "metadata": {},
   "outputs": [
    {
     "name": "stdout",
     "output_type": "stream",
     "text": [
      "Tree: -0.002228 (0.000800)\n",
      "LR: -0.004999 (0.001343)\n",
      "RF: -0.001493 (0.000479)\n",
      "KNN: -0.003625 (0.000977)\n"
     ]
    },
    {
     "data": {
      "image/png": "[encoded data removed]",
      "text/plain": [
       "<Figure size 1200x800 with 1 Axes>"
      ]
     },
     "metadata": {},
     "output_type": "display_data"
    }
   ],
   "source": [
    "# 选取最佳的模型进行进一步预测\n",
    "models = []\n",
    "models.append((\"Tree\", DecisionTreeRegressor()))\n",
    "models.append((\"LR\", LinearRegression()))\n",
    "models.append((\"RF\", RandomForestRegressor()))\n",
    "models.append((\"KNN\", KNeighborsRegressor()))\n",
    "\n",
    "results = []\n",
    "names = []\n",
    "for name, model in models:\n",
    "    kfold = KFold(n_splits=10, random_state=42, shuffle=True)\n",
    "    cv_results = cross_val_score(\n",
    "        model, X_train, y_train, cv=kfold, scoring=\"neg_mean_squared_error\"\n",
    "    )\n",
    "    results.append(cv_results)\n",
    "    names.append(name)\n",
    "    msg = \"%s: %f (%f)\" % (name, cv_results.mean(), cv_results.std())\n",
    "    print(msg)\n",
    "\n",
    "fig, ax = plt.subplots(1, 1, figsize=(12, 8), dpi=100)\n",
    "sns.boxplot(results, ax=ax)\n",
    "ax.set_title('Algorithm Comparison')\n",
    "ax.set_xticklabels(names)\n",
    "plt.show()"
   ]
  },
  {
   "cell_type": "code",
   "execution_count": 15,
   "metadata": {},
   "outputs": [
    {
     "data": {
      "text/html": [
       "<style>#sk-container-id-1 {color: black;}#sk-container-id-1 pre{padding: 0;}#sk-container-id-1 div.sk-toggleable {background-color: white;}#sk-container-id-1 label.sk-toggleable__label {cursor: pointer;display: block;width: 100%;margin-bottom: 0;padding: 0.3em;box-sizing: border-box;text-align: center;}#sk-container-id-1 label.sk-toggleable__label-arrow:before {content: \"▸\";float: left;margin-right: 0.25em;color: #696969;}#sk-container-id-1 label.sk-toggleable__label-arrow:hover:before {color: black;}#sk-container-id-1 div.sk-estimator:hover label.sk-toggleable__label-arrow:before {color: black;}#sk-container-id-1 div.sk-toggleable__content {max-height: 0;max-width: 0;overflow: hidden;text-align: left;background-color: #f0f8ff;}#sk-container-id-1 div.sk-toggleable__content pre {margin: 0.2em;color: black;border-radius: 0.25em;background-color: #f0f8ff;}#sk-container-id-1 input.sk-toggleable__control:checked~div.sk-toggleable__content {max-height: 200px;max-width: 100%;overflow: auto;}#sk-container-id-1 input.sk-toggleable__control:checked~label.sk-toggleable__label-arrow:before {content: \"▾\";}#sk-container-id-1 div.sk-estimator input.sk-toggleable__control:checked~label.sk-toggleable__label {background-color: #d4ebff;}#sk-container-id-1 div.sk-label input.sk-toggleable__control:checked~label.sk-toggleable__label {background-color: #d4ebff;}#sk-container-id-1 input.sk-hidden--visually {border: 0;clip: rect(1px 1px 1px 1px);clip: rect(1px, 1px, 1px, 1px);height: 1px;margin: -1px;overflow: hidden;padding: 0;position: absolute;width: 1px;}#sk-container-id-1 div.sk-estimator {font-family: monospace;background-color: #f0f8ff;border: 1px dotted black;border-radius: 0.25em;box-sizing: border-box;margin-bottom: 0.5em;}#sk-container-id-1 div.sk-estimator:hover {background-color: #d4ebff;}#sk-container-id-1 div.sk-parallel-item::after {content: \"\";width: 100%;border-bottom: 1px solid gray;flex-grow: 1;}#sk-container-id-1 div.sk-label:hover label.sk-toggleable__label {background-color: #d4ebff;}#sk-container-id-1 div.sk-serial::before {content: \"\";position: absolute;border-left: 1px solid gray;box-sizing: border-box;top: 0;bottom: 0;left: 50%;z-index: 0;}#sk-container-id-1 div.sk-serial {display: flex;flex-direction: column;align-items: center;background-color: white;padding-right: 0.2em;padding-left: 0.2em;position: relative;}#sk-container-id-1 div.sk-item {position: relative;z-index: 1;}#sk-container-id-1 div.sk-parallel {display: flex;align-items: stretch;justify-content: center;background-color: white;position: relative;}#sk-container-id-1 div.sk-item::before, #sk-container-id-1 div.sk-parallel-item::before {content: \"\";position: absolute;border-left: 1px solid gray;box-sizing: border-box;top: 0;bottom: 0;left: 50%;z-index: -1;}#sk-container-id-1 div.sk-parallel-item {display: flex;flex-direction: column;z-index: 1;position: relative;background-color: white;}#sk-container-id-1 div.sk-parallel-item:first-child::after {align-self: flex-end;width: 50%;}#sk-container-id-1 div.sk-parallel-item:last-child::after {align-self: flex-start;width: 50%;}#sk-container-id-1 div.sk-parallel-item:only-child::after {width: 0;}#sk-container-id-1 div.sk-dashed-wrapped {border: 1px dashed gray;margin: 0 0.4em 0.5em 0.4em;box-sizing: border-box;padding-bottom: 0.4em;background-color: white;}#sk-container-id-1 div.sk-label label {font-family: monospace;font-weight: bold;display: inline-block;line-height: 1.2em;}#sk-container-id-1 div.sk-label-container {text-align: center;}#sk-container-id-1 div.sk-container {/* jupyter's `normalize.less` sets `[hidden] { display: none; }` but bootstrap.min.css set `[hidden] { display: none !important; }` so we also need the `!important` here to be able to override the default hidden behavior on the sphinx rendered scikit-learn.org. See: https://github.com/scikit-learn/scikit-learn/issues/21755 */display: inline-block !important;position: relative;}#sk-container-id-1 div.sk-text-repr-fallback {display: none;}</style><div id=\"sk-container-id-1\" class=\"sk-top-container\"><div class=\"sk-text-repr-fallback\"><pre>GridSearchCV(cv=5, estimator=RandomForestRegressor(random_state=42), n_jobs=-1,\n",
       "             param_grid={&#x27;bootstrap&#x27;: [True, False],\n",
       "                         &#x27;max_depth&#x27;: [None, 10, 20, 30],\n",
       "                         &#x27;min_samples_leaf&#x27;: [1, 2, 4],\n",
       "                         &#x27;min_samples_split&#x27;: [2, 5, 10],\n",
       "                         &#x27;n_estimators&#x27;: [50, 100, 200]},\n",
       "             scoring=&#x27;neg_mean_squared_error&#x27;)</pre><b>In a Jupyter environment, please rerun this cell to show the HTML representation or trust the notebook. <br />On GitHub, the HTML representation is unable to render, please try loading this page with nbviewer.org.</b></div><div class=\"sk-container\" hidden><div class=\"sk-item sk-dashed-wrapped\"><div class=\"sk-label-container\"><div class=\"sk-label sk-toggleable\"><input class=\"sk-toggleable__control sk-hidden--visually\" id=\"sk-estimator-id-1\" type=\"checkbox\" ><label for=\"sk-estimator-id-1\" class=\"sk-toggleable__label sk-toggleable__label-arrow\">GridSearchCV</label><div class=\"sk-toggleable__content\"><pre>GridSearchCV(cv=5, estimator=RandomForestRegressor(random_state=42), n_jobs=-1,\n",
       "             param_grid={&#x27;bootstrap&#x27;: [True, False],\n",
       "                         &#x27;max_depth&#x27;: [None, 10, 20, 30],\n",
       "                         &#x27;min_samples_leaf&#x27;: [1, 2, 4],\n",
       "                         &#x27;min_samples_split&#x27;: [2, 5, 10],\n",
       "                         &#x27;n_estimators&#x27;: [50, 100, 200]},\n",
       "             scoring=&#x27;neg_mean_squared_error&#x27;)</pre></div></div></div><div class=\"sk-parallel\"><div class=\"sk-parallel-item\"><div class=\"sk-item\"><div class=\"sk-label-container\"><div class=\"sk-label sk-toggleable\"><input class=\"sk-toggleable__control sk-hidden--visually\" id=\"sk-estimator-id-2\" type=\"checkbox\" ><label for=\"sk-estimator-id-2\" class=\"sk-toggleable__label sk-toggleable__label-arrow\">estimator: RandomForestRegressor</label><div class=\"sk-toggleable__content\"><pre>RandomForestRegressor(random_state=42)</pre></div></div></div><div class=\"sk-serial\"><div class=\"sk-item\"><div class=\"sk-estimator sk-toggleable\"><input class=\"sk-toggleable__control sk-hidden--visually\" id=\"sk-estimator-id-3\" type=\"checkbox\" ><label for=\"sk-estimator-id-3\" class=\"sk-toggleable__label sk-toggleable__label-arrow\">RandomForestRegressor</label><div class=\"sk-toggleable__content\"><pre>RandomForestRegressor(random_state=42)</pre></div></div></div></div></div></div></div></div></div></div>"
      ],
      "text/plain": [
       "GridSearchCV(cv=5, estimator=RandomForestRegressor(random_state=42), n_jobs=-1,\n",
       "             param_grid={'bootstrap': [True, False],\n",
       "                         'max_depth': [None, 10, 20, 30],\n",
       "                         'min_samples_leaf': [1, 2, 4],\n",
       "                         'min_samples_split': [2, 5, 10],\n",
       "                         'n_estimators': [50, 100, 200]},\n",
       "             scoring='neg_mean_squared_error')"
      ]
     },
     "execution_count": 15,
     "metadata": {},
     "output_type": "execute_result"
    }
   ],
   "source": [
    "# 定义参数网格\n",
    "param_grid = {\n",
    "    'n_estimators': [50, 100, 200],\n",
    "    'max_depth': [None, 10, 20, 30],\n",
    "    'min_samples_split': [2, 5, 10],\n",
    "    'min_samples_leaf': [1, 2, 4],\n",
    "    'bootstrap': [True, False]\n",
    "}\n",
    "selected_model = RandomForestRegressor(random_state=42)\n",
    "\n",
    "grid_search = GridSearchCV(\n",
    "    estimator=selected_model, param_grid=param_grid,\n",
    "    cv=5, n_jobs=-1, scoring='neg_mean_squared_error',\n",
    ")\n",
    "grid_search.fit(X_train, y_train)"
   ]
  },
  {
   "cell_type": "code",
   "execution_count": 18,
   "metadata": {},
   "outputs": [
    {
     "name": "stdout",
     "output_type": "stream",
     "text": [
      "MSE 0.0013271330447325134\n"
     ]
    }
   ],
   "source": [
    "best_model = grid_search.best_estimator_\n",
    "y_pred = best_model.predict(X_test)\n",
    "print(\"MSE\", mean_squared_error(y_test, y_pred))"
   ]
  },
  {
   "cell_type": "code",
   "execution_count": 19,
   "metadata": {},
   "outputs": [
    {
     "data": {
      "text/html": [
       "<div>\n",
       "<style scoped>\n",
       "    .dataframe tbody tr th:only-of-type {\n",
       "        vertical-align: middle;\n",
       "    }\n",
       "\n",
       "    .dataframe tbody tr th {\n",
       "        vertical-align: top;\n",
       "    }\n",
       "\n",
       "    .dataframe thead th {\n",
       "        text-align: right;\n",
       "    }\n",
       "</style>\n",
       "<table border=\"1\" class=\"dataframe\">\n",
       "  <thead>\n",
       "    <tr style=\"text-align: right;\">\n",
       "      <th></th>\n",
       "      <th>(720, +oo]</th>\n",
       "      <th>(700, 720]</th>\n",
       "      <th>(680, 700]</th>\n",
       "      <th>(660, 680]</th>\n",
       "      <th>(640, 660]</th>\n",
       "      <th>(620, 640]</th>\n",
       "      <th>(600, 620]</th>\n",
       "      <th>(580, 600]</th>\n",
       "      <th>(0 580]</th>\n",
       "    </tr>\n",
       "  </thead>\n",
       "  <tbody>\n",
       "    <tr>\n",
       "      <th>0</th>\n",
       "      <td>0.004866</td>\n",
       "      <td>0.004866</td>\n",
       "      <td>0.126142</td>\n",
       "      <td>0.004866</td>\n",
       "      <td>0.001796</td>\n",
       "      <td>0.118418</td>\n",
       "      <td>0.733599</td>\n",
       "      <td>0.002444</td>\n",
       "      <td>0.002444</td>\n",
       "    </tr>\n",
       "  </tbody>\n",
       "</table>\n",
       "</div>"
      ],
      "text/plain": [
       "   (720, +oo]  (700, 720]  (680, 700]  (660, 680]  (640, 660]  (620, 640]  \\\n",
       "0    0.004866    0.004866    0.126142    0.004866    0.001796    0.118418   \n",
       "\n",
       "   (600, 620]  (580, 600]   (0 580]  \n",
       "0    0.733599    0.002444  0.002444  "
      ]
     },
     "execution_count": 19,
     "metadata": {},
     "output_type": "execute_result"
    }
   ],
   "source": [
    "# 获取最新的时间戳\n",
    "last_time = row_data['time'].max()\n",
    "# 预测下一个时刻\n",
    "next_time = last_time + timedelta(minutes=1)\n",
    "# 提取时间特征\n",
    "next_time_features = {\n",
    "    'year': next_time.year,\n",
    "    'month': next_time.month,\n",
    "    'day': next_time.day,\n",
    "    'hour': next_time.hour,\n",
    "    'minute': next_time.minute,\n",
    "    'day_of_week': next_time.weekday(),\n",
    "    'is_weekend': 1 if next_time.weekday() >= 5 else 0\n",
    "}\n",
    "\n",
    "# 进行预测\n",
    "next_time_df = pd.DataFrame([next_time_features])\n",
    "next_time_prediction = best_model.predict(next_time_df)\n",
    "\n",
    "# 创建包含预测结果的DataFrame\n",
    "prediction_df = pd.DataFrame(next_time_prediction, columns=y_train.columns)\n",
    "prediction_df"
   ]
  }
 ],
 "metadata": {
  "kernelspec": {
   "display_name": "venv",
   "language": "python",
   "name": "python3"
  },
  "language_info": {
   "codemirror_mode": {
    "name": "ipython",
    "version": 3
   },
   "file_extension": ".py",
   "mimetype": "text/x-python",
   "name": "python",
   "nbconvert_exporter": "python",
   "pygments_lexer": "ipython3",
   "version": "3.9.7"
  }
 },
 "nbformat": 4,
 "nbformat_minor": 2
}
